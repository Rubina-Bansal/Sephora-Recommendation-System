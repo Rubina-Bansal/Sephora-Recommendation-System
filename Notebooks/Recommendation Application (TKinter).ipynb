{
 "cells": [
  {
   "cell_type": "markdown",
   "id": "f6863f17",
   "metadata": {},
   "source": [
    "<div style=\"text-align: center; border: 2px solid #3498db; padding: 10px; background-color: #192a56;\">\n",
    "    <h1 style=\"color: #ff6b6b;\">Recommendation System</h1>\n",
    "</div>"
   ]
  },
  {
   "cell_type": "markdown",
   "id": "21121bfd",
   "metadata": {},
   "source": [
    "<h2 style=\"color: #3498db;\">IMPORT LIBRARIES</h2>"
   ]
  },
  {
   "cell_type": "code",
   "execution_count": 1,
   "id": "e996a0e2",
   "metadata": {},
   "outputs": [],
   "source": [
    "import numpy as np\n",
    "import pandas as pd"
   ]
  },
  {
   "cell_type": "markdown",
   "id": "768ae434",
   "metadata": {},
   "source": [
    "<h2 style=\"color: #e74c3c;\">Import datasets</h2>"
   ]
  },
  {
   "cell_type": "code",
   "execution_count": 2,
   "id": "157db772",
   "metadata": {
    "scrolled": true
   },
   "outputs": [
    {
     "name": "stderr",
     "output_type": "stream",
     "text": [
      "C:\\Users\\rkros\\AppData\\Local\\Temp\\ipykernel_7112\\3369692860.py:4: DtypeWarning: Columns (1) have mixed types. Specify dtype option on import or set low_memory=False.\n",
      "  users = pd.read_csv(\"User groups.csv\",index_col=0)\n"
     ]
    }
   ],
   "source": [
    "similarity = pd.read_csv(\"Product-Product Similarity.csv\")\n",
    "scores = pd.read_csv(\"Product score.csv\")[[\"product_id\",\"Product name\",\"Overall score\"]].set_index(\"product_id\")\n",
    "groups = pd.read_csv(\"Groups.csv\")\n",
    "users = pd.read_csv(\"User groups.csv\",index_col=0)\n",
    "products = pd.read_csv(\"product_info.csv\")"
   ]
  },
  {
   "cell_type": "markdown",
   "id": "d8d68df9",
   "metadata": {},
   "source": [
    "<h2 style=\"color: #27ae60;\">Preprocessing</h2>"
   ]
  },
  {
   "cell_type": "code",
   "execution_count": 3,
   "id": "ff13ec6b",
   "metadata": {},
   "outputs": [],
   "source": [
    "similarity.set_index(\"product_name\",inplace=True)"
   ]
  },
  {
   "cell_type": "code",
   "execution_count": 4,
   "id": "1618c22d",
   "metadata": {},
   "outputs": [],
   "source": [
    "similarity = similarity[similarity.index.drop_duplicates()].T"
   ]
  },
  {
   "cell_type": "code",
   "execution_count": 5,
   "id": "77b7f161",
   "metadata": {},
   "outputs": [],
   "source": [
    "users[\"Product score\"] = pd.merge(users,scores,on=\"product_id\")[\"Overall score\"]"
   ]
  },
  {
   "cell_type": "code",
   "execution_count": 6,
   "id": "7a4be8e5",
   "metadata": {},
   "outputs": [
    {
     "data": {
      "text/html": [
       "<div>\n",
       "<style scoped>\n",
       "    .dataframe tbody tr th:only-of-type {\n",
       "        vertical-align: middle;\n",
       "    }\n",
       "\n",
       "    .dataframe tbody tr th {\n",
       "        vertical-align: top;\n",
       "    }\n",
       "\n",
       "    .dataframe thead th {\n",
       "        text-align: right;\n",
       "    }\n",
       "</style>\n",
       "<table border=\"1\" class=\"dataframe\">\n",
       "  <thead>\n",
       "    <tr style=\"text-align: right;\">\n",
       "      <th></th>\n",
       "      <th>Unnamed: 0</th>\n",
       "      <th>Skin tone</th>\n",
       "      <th>Eye color</th>\n",
       "      <th>Skin type</th>\n",
       "      <th>Hair color</th>\n",
       "      <th>Group name</th>\n",
       "    </tr>\n",
       "  </thead>\n",
       "  <tbody>\n",
       "    <tr>\n",
       "      <th>0</th>\n",
       "      <td>0</td>\n",
       "      <td>medium</td>\n",
       "      <td>brown</td>\n",
       "      <td>oily</td>\n",
       "      <td>black</td>\n",
       "      <td>0</td>\n",
       "    </tr>\n",
       "    <tr>\n",
       "      <th>1</th>\n",
       "      <td>1</td>\n",
       "      <td>medium</td>\n",
       "      <td>brown</td>\n",
       "      <td>oily</td>\n",
       "      <td>brown</td>\n",
       "      <td>1</td>\n",
       "    </tr>\n",
       "    <tr>\n",
       "      <th>2</th>\n",
       "      <td>2</td>\n",
       "      <td>medium</td>\n",
       "      <td>brown</td>\n",
       "      <td>oily</td>\n",
       "      <td>blonde</td>\n",
       "      <td>2</td>\n",
       "    </tr>\n",
       "    <tr>\n",
       "      <th>3</th>\n",
       "      <td>3</td>\n",
       "      <td>medium</td>\n",
       "      <td>brown</td>\n",
       "      <td>oily</td>\n",
       "      <td>auburn</td>\n",
       "      <td>3</td>\n",
       "    </tr>\n",
       "    <tr>\n",
       "      <th>4</th>\n",
       "      <td>4</td>\n",
       "      <td>medium</td>\n",
       "      <td>brown</td>\n",
       "      <td>oily</td>\n",
       "      <td>gray</td>\n",
       "      <td>4</td>\n",
       "    </tr>\n",
       "    <tr>\n",
       "      <th>...</th>\n",
       "      <td>...</td>\n",
       "      <td>...</td>\n",
       "      <td>...</td>\n",
       "      <td>...</td>\n",
       "      <td>...</td>\n",
       "      <td>...</td>\n",
       "    </tr>\n",
       "    <tr>\n",
       "      <th>1815</th>\n",
       "      <td>1815</td>\n",
       "      <td>ebony</td>\n",
       "      <td>blue</td>\n",
       "      <td>normal</td>\n",
       "      <td>blonde</td>\n",
       "      <td>12432</td>\n",
       "    </tr>\n",
       "    <tr>\n",
       "      <th>1816</th>\n",
       "      <td>1816</td>\n",
       "      <td>ebony</td>\n",
       "      <td>blue</td>\n",
       "      <td>normal</td>\n",
       "      <td>auburn</td>\n",
       "      <td>12433</td>\n",
       "    </tr>\n",
       "    <tr>\n",
       "      <th>1817</th>\n",
       "      <td>1817</td>\n",
       "      <td>ebony</td>\n",
       "      <td>blue</td>\n",
       "      <td>normal</td>\n",
       "      <td>gray</td>\n",
       "      <td>12434</td>\n",
       "    </tr>\n",
       "    <tr>\n",
       "      <th>1818</th>\n",
       "      <td>1818</td>\n",
       "      <td>ebony</td>\n",
       "      <td>blue</td>\n",
       "      <td>normal</td>\n",
       "      <td>red</td>\n",
       "      <td>12435</td>\n",
       "    </tr>\n",
       "    <tr>\n",
       "      <th>1819</th>\n",
       "      <td>1819</td>\n",
       "      <td>ebony</td>\n",
       "      <td>blue</td>\n",
       "      <td>normal</td>\n",
       "      <td>brunette</td>\n",
       "      <td>12436</td>\n",
       "    </tr>\n",
       "  </tbody>\n",
       "</table>\n",
       "<p>1820 rows × 6 columns</p>\n",
       "</div>"
      ],
      "text/plain": [
       "      Unnamed: 0 Skin tone Eye color Skin type Hair color  Group name\n",
       "0              0    medium     brown      oily      black           0\n",
       "1              1    medium     brown      oily      brown           1\n",
       "2              2    medium     brown      oily     blonde           2\n",
       "3              3    medium     brown      oily     auburn           3\n",
       "4              4    medium     brown      oily       gray           4\n",
       "...          ...       ...       ...       ...        ...         ...\n",
       "1815        1815     ebony      blue    normal     blonde       12432\n",
       "1816        1816     ebony      blue    normal     auburn       12433\n",
       "1817        1817     ebony      blue    normal       gray       12434\n",
       "1818        1818     ebony      blue    normal        red       12435\n",
       "1819        1819     ebony      blue    normal   brunette       12436\n",
       "\n",
       "[1820 rows x 6 columns]"
      ]
     },
     "execution_count": 6,
     "metadata": {},
     "output_type": "execute_result"
    }
   ],
   "source": [
    "groups"
   ]
  },
  {
   "cell_type": "markdown",
   "id": "3dbf8ce0",
   "metadata": {},
   "source": [
    "<h2 style=\"color: #e67e22;\">Creating recommendations for each group</h2>"
   ]
  },
  {
   "cell_type": "code",
   "execution_count": 7,
   "id": "5ce053d4",
   "metadata": {},
   "outputs": [],
   "source": [
    "recommendations = pd.DataFrame(index=groups[\"Group name\"],columns=[\"Recommendations\"])"
   ]
  },
  {
   "cell_type": "code",
   "execution_count": 8,
   "id": "4309d0ce",
   "metadata": {},
   "outputs": [],
   "source": [
    "for i in recommendations.index:\n",
    "    products_list = users[(users[\"Group name\"]==i) & (users[\"Product score\"]>50)][[\"product_name\",\"Product score\"]]\n",
    "    recommendations.loc[i,\"Recommendations\"]=products_list.drop_duplicates().sort_values(\"Product score\",ascending=False).iloc[:15].product_name.values"
   ]
  },
  {
   "cell_type": "code",
   "execution_count": 13,
   "id": "921ad151",
   "metadata": {},
   "outputs": [
    {
     "data": {
      "text/html": [
       "<div>\n",
       "<style scoped>\n",
       "    .dataframe tbody tr th:only-of-type {\n",
       "        vertical-align: middle;\n",
       "    }\n",
       "\n",
       "    .dataframe tbody tr th {\n",
       "        vertical-align: top;\n",
       "    }\n",
       "\n",
       "    .dataframe thead th {\n",
       "        text-align: right;\n",
       "    }\n",
       "</style>\n",
       "<table border=\"1\" class=\"dataframe\">\n",
       "  <thead>\n",
       "    <tr style=\"text-align: right;\">\n",
       "      <th></th>\n",
       "      <th>Recommendations</th>\n",
       "    </tr>\n",
       "    <tr>\n",
       "      <th>Group name</th>\n",
       "      <th></th>\n",
       "    </tr>\n",
       "  </thead>\n",
       "  <tbody>\n",
       "    <tr>\n",
       "      <th>0</th>\n",
       "      <td>[Lip Sleeping Mask Intense Hydration with Vita...</td>\n",
       "    </tr>\n",
       "    <tr>\n",
       "      <th>1</th>\n",
       "      <td>[Lip Sleeping Mask Intense Hydration with Vita...</td>\n",
       "    </tr>\n",
       "    <tr>\n",
       "      <th>2</th>\n",
       "      <td>[Lip Sleeping Mask Intense Hydration with Vita...</td>\n",
       "    </tr>\n",
       "    <tr>\n",
       "      <th>3</th>\n",
       "      <td>[Lip Sleeping Mask Intense Hydration with Vita...</td>\n",
       "    </tr>\n",
       "    <tr>\n",
       "      <th>4</th>\n",
       "      <td>[Lip Glowy Balm, Green Clean Makeup Removing C...</td>\n",
       "    </tr>\n",
       "    <tr>\n",
       "      <th>...</th>\n",
       "      <td>...</td>\n",
       "    </tr>\n",
       "    <tr>\n",
       "      <th>12432</th>\n",
       "      <td>[]</td>\n",
       "    </tr>\n",
       "    <tr>\n",
       "      <th>12433</th>\n",
       "      <td>[]</td>\n",
       "    </tr>\n",
       "    <tr>\n",
       "      <th>12434</th>\n",
       "      <td>[]</td>\n",
       "    </tr>\n",
       "    <tr>\n",
       "      <th>12435</th>\n",
       "      <td>[]</td>\n",
       "    </tr>\n",
       "    <tr>\n",
       "      <th>12436</th>\n",
       "      <td>[]</td>\n",
       "    </tr>\n",
       "  </tbody>\n",
       "</table>\n",
       "<p>1820 rows × 1 columns</p>\n",
       "</div>"
      ],
      "text/plain": [
       "                                              Recommendations\n",
       "Group name                                                   \n",
       "0           [Lip Sleeping Mask Intense Hydration with Vita...\n",
       "1           [Lip Sleeping Mask Intense Hydration with Vita...\n",
       "2           [Lip Sleeping Mask Intense Hydration with Vita...\n",
       "3           [Lip Sleeping Mask Intense Hydration with Vita...\n",
       "4           [Lip Glowy Balm, Green Clean Makeup Removing C...\n",
       "...                                                       ...\n",
       "12432                                                      []\n",
       "12433                                                      []\n",
       "12434                                                      []\n",
       "12435                                                      []\n",
       "12436                                                      []\n",
       "\n",
       "[1820 rows x 1 columns]"
      ]
     },
     "execution_count": 13,
     "metadata": {},
     "output_type": "execute_result"
    }
   ],
   "source": [
    "recommendations"
   ]
  },
  {
   "cell_type": "code",
   "execution_count": 9,
   "id": "f6dbe2ef",
   "metadata": {
    "scrolled": true
   },
   "outputs": [
    {
     "data": {
      "text/plain": [
       "15    695\n",
       "0     655\n",
       "1     119\n",
       "2      65\n",
       "3      50\n",
       "6      38\n",
       "4      36\n",
       "5      29\n",
       "7      24\n",
       "8      21\n",
       "10     21\n",
       "9      17\n",
       "13     15\n",
       "12     12\n",
       "11     12\n",
       "14     11\n",
       "Name: Recommendations, dtype: int64"
      ]
     },
     "execution_count": 9,
     "metadata": {},
     "output_type": "execute_result"
    }
   ],
   "source": [
    "recommendations.Recommendations.apply(lambda a : len(a)).value_counts()"
   ]
  },
  {
   "cell_type": "markdown",
   "id": "5e820d85",
   "metadata": {},
   "source": [
    "**Fill recommendations based on relevant groups with same skin type, skin color and eye color but with different hair color**"
   ]
  },
  {
   "cell_type": "code",
   "execution_count": 9,
   "id": "04f50ebc",
   "metadata": {},
   "outputs": [],
   "source": [
    "for i in recommendations.index:\n",
    "    if len(recommendations.Recommendations.loc[i])<15:\n",
    "        remaining = 15 - len(recommendations.Recommendations.loc[i])\n",
    "        group = str(i).rjust(5,\"0\")[:4]\n",
    "        for j in range(7):\n",
    "            group_name = int(group+str(j))\n",
    "            if len(recommendations.Recommendations.loc[group_name])>=remaining:\n",
    "                recommendations.Recommendations.loc[i] = np.concatenate((recommendations.Recommendations.loc[i],recommendations.Recommendations.loc[group_name][:remaining]))\n",
    "                break"
   ]
  },
  {
   "cell_type": "markdown",
   "id": "e7cff669",
   "metadata": {},
   "source": [
    "**Fill recommendations based on relevant groups with same skin type, hair color and skin color but with different eye color**"
   ]
  },
  {
   "cell_type": "code",
   "execution_count": 10,
   "id": "95784cf2",
   "metadata": {},
   "outputs": [],
   "source": [
    "for i in recommendations.index:\n",
    "    if len(recommendations.Recommendations.loc[i])<15:\n",
    "        remaining = 15 - len(recommendations.Recommendations.loc[i])\n",
    "        group = str(i).rjust(5,\"0\")\n",
    "        for j in range(5):\n",
    "            group_name = int(group[:2]+str(j)+group[3:])\n",
    "            if len(recommendations.Recommendations.loc[group_name])>=remaining:\n",
    "                recommendations.Recommendations.loc[i] = np.concatenate((recommendations.Recommendations.loc[i],recommendations.Recommendations.loc[group_name][:remaining]))\n",
    "                break"
   ]
  },
  {
   "cell_type": "markdown",
   "id": "5348e9ca",
   "metadata": {},
   "source": [
    "**Fill recommendations based on relevant groups with same skin type, hair color and eye color but with different skin color**"
   ]
  },
  {
   "cell_type": "code",
   "execution_count": 11,
   "id": "d336b3a4",
   "metadata": {},
   "outputs": [],
   "source": [
    "for i in recommendations.index:\n",
    "    if len(recommendations.Recommendations.loc[i])<15:\n",
    "        remaining = 15 - len(recommendations.Recommendations.loc[i])\n",
    "        group = str(i).rjust(5,\"0\")\n",
    "        for j in range(13):\n",
    "            group_name = int(str(j).rjust(2,\"0\")+group[2:])\n",
    "            if len(recommendations.Recommendations.loc[group_name])>=remaining:\n",
    "                recommendations.Recommendations.loc[i] = np.concatenate((recommendations.Recommendations.loc[i],recommendations.Recommendations.loc[group_name][:remaining]))\n",
    "                break"
   ]
  },
  {
   "cell_type": "code",
   "execution_count": 12,
   "id": "c9bbb87e",
   "metadata": {},
   "outputs": [
    {
     "data": {
      "text/plain": [
       "15    1820\n",
       "Name: Recommendations, dtype: int64"
      ]
     },
     "execution_count": 12,
     "metadata": {},
     "output_type": "execute_result"
    }
   ],
   "source": [
    "recommendations.Recommendations.apply(lambda a : len(a)).value_counts()"
   ]
  },
  {
   "cell_type": "markdown",
   "id": "ec2c0009",
   "metadata": {},
   "source": [
    "**Fill recommendations based on similar products using product similarity matrix**"
   ]
  },
  {
   "cell_type": "code",
   "execution_count": 13,
   "id": "d1832016",
   "metadata": {},
   "outputs": [],
   "source": [
    "for i in recommendations.index:\n",
    "    similarity_recommendations = []\n",
    "    for j in recommendations.loc[i].Recommendations:\n",
    "        similarity_recommendations.append(similarity.loc[j].sort_values(ascending=False).index[1])\n",
    "    recommendations.loc[i].Recommendations = np.concatenate((recommendations.loc[i].Recommendations,similarity_recommendations))"
   ]
  },
  {
   "cell_type": "code",
   "execution_count": 14,
   "id": "0a4410e2",
   "metadata": {},
   "outputs": [
    {
     "data": {
      "text/plain": [
       "30    1820\n",
       "Name: Recommendations, dtype: int64"
      ]
     },
     "execution_count": 14,
     "metadata": {},
     "output_type": "execute_result"
    }
   ],
   "source": [
    "recommendations.Recommendations.apply(lambda a : len(a)).value_counts()"
   ]
  },
  {
   "cell_type": "code",
   "execution_count": 15,
   "id": "f9c9d4f8",
   "metadata": {},
   "outputs": [],
   "source": [
    "recommendations.to_csv(\"Product_Recommendations.csv\")"
   ]
  },
  {
   "cell_type": "markdown",
   "id": "7d372835",
   "metadata": {},
   "source": [
    "<h2 style=\"color: #9b59b6;\">User Interface</h2>"
   ]
  },
  {
   "cell_type": "code",
   "execution_count": 5,
   "id": "67c0c0a0",
   "metadata": {},
   "outputs": [
    {
     "name": "stdout",
     "output_type": "stream",
     "text": [
      "Collecting customtkinter\n",
      "  Downloading customtkinter-5.2.0-py3-none-any.whl (295 kB)\n",
      "     -------------------------------------- 295.6/295.6 KB 3.1 MB/s eta 0:00:00\n",
      "Collecting darkdetect\n",
      "  Downloading darkdetect-0.8.0-py3-none-any.whl (9.0 kB)\n",
      "Installing collected packages: darkdetect, customtkinter\n",
      "Successfully installed customtkinter-5.2.0 darkdetect-0.8.0\n",
      "Note: you may need to restart the kernel to use updated packages.\n"
     ]
    },
    {
     "name": "stderr",
     "output_type": "stream",
     "text": [
      "WARNING: Ignoring invalid distribution -ip (d:\\pgp-dse\\python\\anaconda\\lib\\site-packages)\n",
      "WARNING: Ignoring invalid distribution -ip (d:\\pgp-dse\\python\\anaconda\\lib\\site-packages)\n",
      "WARNING: Ignoring invalid distribution -ip (d:\\pgp-dse\\python\\anaconda\\lib\\site-packages)\n",
      "WARNING: Ignoring invalid distribution -ip (d:\\pgp-dse\\python\\anaconda\\lib\\site-packages)\n",
      "WARNING: Ignoring invalid distribution -ip (d:\\pgp-dse\\python\\anaconda\\lib\\site-packages)\n",
      "WARNING: Ignoring invalid distribution -ip (d:\\pgp-dse\\python\\anaconda\\lib\\site-packages)\n",
      "WARNING: Ignoring invalid distribution -ip (d:\\pgp-dse\\python\\anaconda\\lib\\site-packages)\n",
      "WARNING: Ignoring invalid distribution -ip (d:\\pgp-dse\\python\\anaconda\\lib\\site-packages)\n",
      "WARNING: You are using pip version 22.0.4; however, version 23.2.1 is available.\n",
      "You should consider upgrading via the 'D:\\PGP-DSE\\Python\\Anaconda\\python.exe -m pip install --upgrade pip' command.\n"
     ]
    }
   ],
   "source": [
    "pip install customtkinter"
   ]
  },
  {
   "cell_type": "code",
   "execution_count": 22,
   "id": "082fe965",
   "metadata": {},
   "outputs": [],
   "source": [
    "skin_tones = groups[\"Skin tone\"].unique()\n",
    "skin_types = groups[\"Skin type\"].unique()\n",
    "eye_colors = groups[\"Eye color\"].unique()\n",
    "hair_colors = groups[\"Hair color\"].unique()"
   ]
  },
  {
   "cell_type": "code",
   "execution_count": null,
   "id": "0b06d8a0",
   "metadata": {},
   "outputs": [],
   "source": [
    "import customtkinter\n",
    "import tkinter as tk"
   ]
  },
  {
   "cell_type": "code",
   "execution_count": 30,
   "id": "52ef6eec",
   "metadata": {},
   "outputs": [],
   "source": [
    "def user_page():\n",
    "    \n",
    "    root.geometry(\"500x500\")\n",
    "    \n",
    "    # Fetch user name\n",
    "    user_name = name.get()\n",
    "    \n",
    "    # Define global variables\n",
    "    global skin_tone_options\n",
    "    global skin_type_options\n",
    "    global eye_color_options\n",
    "    global hair_color_options\n",
    "    global gender_options \n",
    "    \n",
    "    # Clear the screen\n",
    "    for widget in frame.winfo_children():\n",
    "        widget.destroy()\n",
    "    \n",
    "    greetings = customtkinter.CTkLabel(master=frame,text=f\"Hello, {user_name}!\\nA very warm WELCOME!\\n It is lovely to have you!\\n Please enter your details\",font=(\"Roboto\",24))\n",
    "    greetings.pack(pady=12,padx=10)\n",
    "    \n",
    "    gender = customtkinter.CTkLabel(master=frame, text=\"Gender:\")\n",
    "    gender.place(x=80,y=150)\n",
    "    \n",
    "    gender_options = customtkinter.CTkSegmentedButton(master=frame,values=[\"Male\",\"Female\"])\n",
    "    gender_options.place(x=160,y=150)\n",
    "    \n",
    "    skin_tone = customtkinter.CTkLabel(master=frame, text=\"Skin tone:\")\n",
    "    skin_tone_options = customtkinter.CTkOptionMenu(master=frame, values=skin_tones)\n",
    "    \n",
    "    skin_type = customtkinter.CTkLabel(master=frame, text=\"Skin type:\")    \n",
    "    skin_type_options = customtkinter.CTkOptionMenu(master=frame, values=skin_types)\n",
    "    \n",
    "    eye_color = customtkinter.CTkLabel(master=frame, text=\"Eye color:\", anchor=\"w\")\n",
    "    eye_color_options = customtkinter.CTkOptionMenu(master=frame, values=eye_colors)\n",
    "\n",
    "    hair_color = customtkinter.CTkLabel(master=frame, text=\"Hair color:\", anchor=\"w\") \n",
    "    hair_color_options = customtkinter.CTkOptionMenu(master=frame, values=hair_colors)\n",
    "\n",
    "    labels = [skin_tone,skin_type,eye_color,hair_color]\n",
    "    option_menus = [skin_tone_options,skin_type_options,eye_color_options,hair_color_options]\n",
    "\n",
    "    for i in range(len(labels)):\n",
    "        labels[i].place(x=80, y=200+(i*50))\n",
    "        option_menus[i].place(x=160, y=200+(i*50))\n",
    "        \n",
    "    def gender_check():\n",
    "        \n",
    "        # check for men\n",
    "        if (gender_options.get()==\"Male\"):\n",
    "            \n",
    "            # Clear the screen\n",
    "            for widget in frame.winfo_children():\n",
    "                widget.destroy()\n",
    "            \n",
    "            male_text = customtkinter.CTkLabel(master=frame,text=\"Sorry!\\n There are no product for men\\n in our website\\n Try searching for any other good website :)\",font=(\"Roboto\",18))\n",
    "            male_text.pack(pady=12,padx=10)\n",
    "            return\n",
    "        else:\n",
    "            filter_page()\n",
    "        \n",
    "        \n",
    "    button = customtkinter.CTkButton(master=frame,text=\"Continue\",command=gender_check)\n",
    "    button.place(x=100,y=400)"
   ]
  },
  {
   "cell_type": "code",
   "execution_count": 29,
   "id": "50855909",
   "metadata": {},
   "outputs": [],
   "source": [
    "def filter_page():\n",
    "    \n",
    "    # Define global variables to store attributes\n",
    "    global skin_tone_label\n",
    "    global skin_type_label\n",
    "    global eye_color_label\n",
    "    global hair_color_label\n",
    "    \n",
    "    # Fetch user attributes\n",
    "    skin_tone_label = [k for k,v in dict(pd.Series(skin_tones)).items() if v==skin_tone_options.get()]\n",
    "    skin_type_label = [k for k,v in dict(pd.Series(skin_types)).items() if v==skin_type_options.get()]\n",
    "    eye_color_label = [k for k,v in dict(pd.Series(eye_colors)).items() if v==eye_color_options.get()]\n",
    "    hair_color_label = [k for k,v in dict(pd.Series(hair_colors)).items() if v==hair_color_options.get()]\n",
    "    \n",
    "    # Clear the screen\n",
    "    for widget in frame.winfo_children():\n",
    "        widget.destroy()\n",
    "    \n",
    "    # Global variables\n",
    "    global secondary_switch\n",
    "    global tertiary_switch\n",
    "    \n",
    "    secondary_category_text = customtkinter.CTkLabel(master=frame,text=\"Do you want to apply filter on products\\n based on secondary categories ?\",font=(\"Roboto\",20))\n",
    "    secondary_category_text.pack(pady=12,padx=10)\n",
    "    \n",
    "    secondary_filter = customtkinter.CTkLabel(master=frame,text=\"Secondary Category filter\",font=(\"Roboto\",16))\n",
    "    secondary_filter.place(x=40,y=80)\n",
    "    \n",
    "    tertiary_category_text = customtkinter.CTkLabel(master=frame,text=\"Do you want to apply filter on products\\n based on tertiary categories ?\",font=(\"Roboto\",20))\n",
    "    tertiary_category_text.place(x=24,y=160)\n",
    "    \n",
    "    tertiary_filter = customtkinter.CTkLabel(master=frame,text=\"Tertiary Category filter\",font=(\"Roboto\",16))\n",
    "    tertiary_filter.place(x=40,y=230)\n",
    "    \n",
    "    button = customtkinter.CTkButton(master=frame,text=\"Continue\",command=recommendation_page)\n",
    "    button.place(x=100,y=350)\n",
    "    \n",
    "    secondary_switch = customtkinter.CTkSwitch(master=frame, text=\"\",command=secondary_category_filter)\n",
    "    secondary_switch.place(x=230,y=82)\n",
    "    \n",
    "    tertiary_switch = customtkinter.CTkSwitch(master=frame, text=\"\",command=tertiary_category_filter)\n",
    "    tertiary_switch.place(x=230,y=232)\n",
    "\n",
    "def secondary_category_filter():\n",
    "    \n",
    "    global secondary_category_options\n",
    "    \n",
    "    # Group name\n",
    "    group_name = int(str(skin_tone_label[0])+str(skin_type_label[0])+str(hair_color_label[0])+str(eye_color_label[0]))\n",
    "    products_list = recommendations.loc[group_name].Recommendations\n",
    "    secondary_categories=[]\n",
    "    for i in products_list:\n",
    "        category_2nd = products[products.product_name==i].secondary_category\n",
    "        if str(category_2nd.values[0])==\"nan\":\n",
    "            continue        \n",
    "        elif category_2nd.shape == ():\n",
    "            secondary_categories.append(category_2nd)\n",
    "        else:\n",
    "            secondary_categories.append(category_2nd.iloc[0])\n",
    "            \n",
    "    secondary_categories = [k+\" (\"+str(v)+\")\" for k,v in {i:secondary_categories.count(i) for i in secondary_categories}.items()]\n",
    "    print(secondary_categories)\n",
    "    \n",
    "    secondary_category = customtkinter.CTkLabel(master=frame, text=\"Secondary Category:\", anchor=\"w\")\n",
    "    secondary_category.place(x=40,y=120)\n",
    "    \n",
    "    secondary_category_options = customtkinter.CTkOptionMenu(master=frame, values=secondary_categories)\n",
    "    secondary_category_options.place(x=160,y=120)\n",
    "    \n",
    "def tertiary_category_filter():\n",
    "    \n",
    "    global tertiary_category_options\n",
    "    \n",
    "    # Group name\n",
    "    group_name = int(str(skin_tone_label[0])+str(skin_type_label[0])+str(hair_color_label[0])+str(eye_color_label[0]))\n",
    "    products_list = recommendations.loc[group_name].Recommendations\n",
    "    tertiary_categories=[]\n",
    "    for i in products_list:\n",
    "        category_3rd = products[products.product_name==i].tertiary_category\n",
    "        if str(category_3rd.values[0])==\"nan\":\n",
    "            continue        \n",
    "        elif category_3rd.shape == ():\n",
    "            tertiary_categories.append(category_3rd)\n",
    "        else:\n",
    "            tertiary_categories.append(category_3rd.iloc[0])\n",
    "            \n",
    "    tertiary_categories = [k+\" (\"+str(v)+\")\" for k,v in {i:tertiary_categories.count(i) for i in tertiary_categories}.items()]\n",
    "    print(tertiary_categories)\n",
    "    \n",
    "    tertiary_category = customtkinter.CTkLabel(master=frame, text=\"Tertiary Category:\", anchor=\"w\")\n",
    "    tertiary_category.place(x=40,y=270)\n",
    "    \n",
    "    tertiary_category_options = customtkinter.CTkOptionMenu(master=frame, values=tertiary_categories)\n",
    "    tertiary_category_options.place(x=160,y=270)"
   ]
  },
  {
   "cell_type": "code",
   "execution_count": 28,
   "id": "16c5315b",
   "metadata": {},
   "outputs": [],
   "source": [
    "def recommendation_page():\n",
    "    \n",
    "    secondary_category = \"\"\n",
    "    tertiary_category = \"\"\n",
    "    \n",
    "    if secondary_switch.get():\n",
    "        secondary_category = secondary_category_options.get()\n",
    "    if tertiary_switch.get():\n",
    "        tertiary_category = tertiary_category_options.get()\n",
    "        secondary_category=\"\"\n",
    "        \n",
    "    recommendations = get_recommendations(secondary_category,tertiary_category)\n",
    "    \n",
    "    # Clear the screen\n",
    "    for widget in frame.winfo_children():\n",
    "        widget.destroy()\n",
    "    \n",
    "    root.geometry(\"500x500\")\n",
    "    \n",
    "    recommendation_text = customtkinter.CTkLabel(master=frame,text=\"Here are your product recommendations\\n Check the box for products which you like!\",font=(\"Roboto\",16))\n",
    "    recommendation_text.pack(pady=12,padx=10)\n",
    "    \n",
    "    global variables\n",
    "    variables = []\n",
    "\n",
    "    canvas = customtkinter.CTkCanvas(frame)\n",
    "    canvas.pack(side=\"left\", fill=\"both\", expand=True)\n",
    "\n",
    "    scrollbar = tk.Scrollbar(frame, orient=\"vertical\", command=canvas.yview)\n",
    "    scrollbar.pack(side=\"right\", fill=\"y\")\n",
    "\n",
    "    canvas.configure(yscrollcommand=scrollbar.set)\n",
    "    canvas.bind(\"<Configure>\", lambda e: canvas.configure(scrollregion=canvas.bbox(\"all\")))\n",
    "\n",
    "    inner_frame = customtkinter.CTkFrame(canvas)\n",
    "    canvas.create_window((0, 0), window=inner_frame, anchor=\"nw\")\n",
    "\n",
    "    for i, sentence in enumerate(recommendations):\n",
    "        var = customtkinter.IntVar()\n",
    "        variables.append(var)\n",
    "        chk = customtkinter.CTkCheckBox(inner_frame, text=sentence, variable=var)\n",
    "        chk.pack(anchor=\"w\")\n",
    "        \n",
    "    btn_frame = customtkinter.CTkFrame(root)\n",
    "    btn_frame.pack(fill=\"x\")\n",
    "\n",
    "    btn = customtkinter.CTkButton(btn_frame, text=\"Continue\", command=thank_you_page)\n",
    "    btn.pack()"
   ]
  },
  {
   "cell_type": "code",
   "execution_count": 27,
   "id": "40a8a97d",
   "metadata": {},
   "outputs": [],
   "source": [
    "def thank_you_page():\n",
    "    \n",
    "    # Clear the screen\n",
    "    for widget in frame.winfo_children():\n",
    "        widget.destroy()\n",
    "        \n",
    "    display_text = customtkinter.CTkLabel(master=frame,text=\"Thanks for shopping with us!\\n Rate your overall satisfaction!\",font=(\"Roboto\",16))\n",
    "    display_text.pack(pady=12,padx=10)\n",
    "    \n",
    "    options = [\"Highly satisfied\", \"Satisfied\", \"Neutral\", \"Need a bit improvement\", \"Not satisfied\"]\n",
    "    var = customtkinter.StringVar(value=options[0])\n",
    "    \n",
    "    for option in options:\n",
    "        rb = customtkinter.CTkRadioButton(frame, text=option, variable=var, value=option)\n",
    "        rb.pack(pady=12,padx=10,anchor=\"w\")"
   ]
  },
  {
   "cell_type": "code",
   "execution_count": 26,
   "id": "eab34083",
   "metadata": {},
   "outputs": [],
   "source": [
    "def get_recommendations(secondary_category,tertiary_category):\n",
    "    \n",
    "    # Group name\n",
    "    group_name = int(str(skin_tone_label[0])+str(skin_type_label[0])+str(hair_color_label[0])+str(eye_color_label[0]))\n",
    "    products_list = recommendations.loc[group_name].Recommendations\n",
    "    \n",
    "    if secondary_category==\"\" and tertiary_category==\"\":\n",
    "        return products_list  \n",
    "    if secondary_category!=\"\":\n",
    "        for i in products_list:\n",
    "            if products[products.product_name==i].secondary_category.values[0]!=secondary_category.split(\" \")[0]:\n",
    "                products_list = products_list[products_list!=i]\n",
    "        return products_list\n",
    "    if tertiary_category!=\"\":\n",
    "        for i in products_list:\n",
    "            if products[products.product_name==i].tertiary_category.values[0]!=tertiary_category.split(\" \")[0]:\n",
    "                products_list = products_list[products_list!=i]\n",
    "        return products_list"
   ]
  },
  {
   "cell_type": "code",
   "execution_count": 34,
   "id": "f00704b4",
   "metadata": {},
   "outputs": [],
   "source": [
    "customtkinter.set_appearance_mode(\"Light\")\n",
    "customtkinter.set_default_color_theme(\"dark-blue\")\n",
    "\n",
    "root = customtkinter.CTk()\n",
    "root.geometry(\"500x350\")\n",
    "\n",
    "def change_appearance_mode_event(new_appearance_mode: str):\n",
    "        customtkinter.set_appearance_mode(new_appearance_mode)    \n",
    "\n",
    "frame = customtkinter.CTkFrame(master=root)\n",
    "frame.pack(pady=20,padx=60,fill=\"both\",expand=True)\n",
    "\n",
    "label = customtkinter.CTkLabel(master=frame,text=\"Welcome to Dummy Sephora\",font=(\"Roboto\",24))\n",
    "label.pack(pady=12,padx=10)\n",
    "\n",
    "name = customtkinter.CTkEntry(master=frame,placeholder_text=\"Your name\")\n",
    "name.pack(pady=12,padx=10)\n",
    "\n",
    "button = customtkinter.CTkButton(master=frame,text=\"Continue\",command=user_page)\n",
    "button.pack(pady=12,padx=10)\n",
    "\n",
    "checkbox = customtkinter.CTkCheckBox(master=frame,text=\"Remember me\")\n",
    "checkbox.pack(pady=12,padx=10)\n",
    "\n",
    "appearance_mode_label = customtkinter.CTkLabel(master=frame, text=\"Appearance Mode:\", anchor=\"w\")\n",
    "appearance_mode_label.pack(pady=12,padx=(60,5),side=customtkinter.LEFT)\n",
    "\n",
    "appearance_mode_optionemenu = customtkinter.CTkOptionMenu(master=frame, values=[\"Light\", \"Dark\", \"System\"],command=change_appearance_mode_event)\n",
    "appearance_mode_optionemenu.pack(pady=12,padx=0,side=customtkinter.LEFT)\n",
    "\n",
    "root.mainloop()"
   ]
  }
 ],
 "metadata": {
  "kernelspec": {
   "display_name": "Python 3 (ipykernel)",
   "language": "python",
   "name": "python3"
  },
  "language_info": {
   "codemirror_mode": {
    "name": "ipython",
    "version": 3
   },
   "file_extension": ".py",
   "mimetype": "text/x-python",
   "name": "python",
   "nbconvert_exporter": "python",
   "pygments_lexer": "ipython3",
   "version": "3.9.12"
  }
 },
 "nbformat": 4,
 "nbformat_minor": 5
}
